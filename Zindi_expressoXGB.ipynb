{
  "nbformat": 4,
  "nbformat_minor": 0,
  "metadata": {
    "colab": {
      "name": "Zindi_expressoXGB.ipynb",
      "provenance": []
    },
    "kernelspec": {
      "name": "python3",
      "display_name": "Python 3"
    }
  },
  "cells": [
    {
      "cell_type": "code",
      "metadata": {
        "id": "iaU37b4e5Wni",
        "colab_type": "code",
        "colab": {}
      },
      "source": [
        "!pip install catboost\n",
        "import numpy as np \n",
        "import pandas as pd \n",
        "import matplotlib.pyplot as plt\n",
        "import seaborn as sns\n",
        "from catboost import CatBoostRegressor\n",
        "sns.set(style=\"darkgrid\")\n",
        "\n",
        "\n",
        "import os\n",
        "for dirname, _, filenames in os.walk('/kaggle/input'):\n",
        "    for filename in filenames:\n",
        "        print(os.path.join(dirname, filename))"
      ],
      "execution_count": null,
      "outputs": []
    },
    {
      "cell_type": "code",
      "metadata": {
        "id": "r06S8wKG5o7D",
        "colab_type": "code",
        "colab": {}
      },
      "source": [
        "items=pd.read_csv(\"/content/drive/My Drive/Kaggle Data/items.csv\")\n",
        "shops=pd.read_csv(\"/content/drive/My Drive/Kaggle Data/shops.csv\")\n",
        "cats=pd.read_csv(\"/content/drive/My Drive/Kaggle Data/item_categories.csv\")\n",
        "train=pd.read_csv(\"/content/drive/My Drive/Kaggle Data/sales_train.csv\")\n",
        "test=pd.read_csv(\"/content/drive/My Drive/Kaggle Data/test.csv\")"
      ],
      "execution_count": null,
      "outputs": []
    },
    {
      "cell_type": "code",
      "metadata": {
        "id": "N4TkvEEq6qVU",
        "colab_type": "code",
        "colab": {
          "base_uri": "https://localhost:8080/",
          "height": 569
        },
        "outputId": "f8838ae0-39db-4a01-bcba-aa4d55e0262f"
      },
      "source": [
        "plt.figure(figsize=(10,4))\n",
        "plt.xlim(-100, 3000)\n",
        "flierprops = dict(marker='o', markerfacecolor='purple', markersize=6,\n",
        "                  linestyle='none', markeredgecolor='black')\n",
        "sns.boxplot(x=train.item_cnt_day, flierprops=flierprops)\n",
        "\n",
        "plt.figure(figsize=(10,4))\n",
        "plt.xlim(train.item_price.min(), train.item_price.max()*1.1)\n",
        "sns.boxplot(x=train.item_price, flierprops=flierprops)"
      ],
      "execution_count": null,
      "outputs": [
        {
          "output_type": "execute_result",
          "data": {
            "text/plain": [
              "<matplotlib.axes._subplots.AxesSubplot at 0x7f745c2eec50>"
            ]
          },
          "metadata": {
            "tags": []
          },
          "execution_count": 4
        },
        {
          "output_type": "display_data",
          "data": {
            "image/png": "[encoded data removed]",
            "text/plain": [
              "<Figure size 720x288 with 1 Axes>"
            ]
          },
          "metadata": {
            "tags": []
          }
        },
        {
          "output_type": "display_data",
          "data": {
            "image/png": "[encoded data removed]",
            "text/plain": [
              "<Figure size 720x288 with 1 Axes>"
            ]
          },
          "metadata": {
            "tags": []
          }
        }
      ]
    },
    {
      "cell_type": "code",
      "metadata": {
        "id": "c_yY_6kl6wEY",
        "colab_type": "code",
        "colab": {}
      },
      "source": [
        "train = train[(train.item_price < 300000 )& (train.item_cnt_day < 1000)]"
      ],
      "execution_count": null,
      "outputs": []
    },
    {
      "cell_type": "code",
      "metadata": {
        "id": "QwAXoKq660rr",
        "colab_type": "code",
        "colab": {}
      },
      "source": [
        "train = train[train.item_price > 0].reset_index(drop = True)\n",
        "train.loc[train.item_cnt_day < 1, \"item_cnt_day\"] = 0"
      ],
      "execution_count": null,
      "outputs": []
    },
    {
      "cell_type": "code",
      "metadata": {
        "id": "CNSzPZ6f668i",
        "colab_type": "code",
        "colab": {}
      },
      "source": [
        "# Якутск Орджоникидзе, 56\n",
        "train.loc[train.shop_id == 0, 'shop_id'] = 57\n",
        "test.loc[test.shop_id == 0, 'shop_id'] = 57\n",
        "# Якутск ТЦ \"Центральный\"\n",
        "train.loc[train.shop_id == 1, 'shop_id'] = 58\n",
        "test.loc[test.shop_id == 1, 'shop_id'] = 58\n",
        "# Жуковский ул. Чкалова 39м²\n",
        "train.loc[train.shop_id == 10, 'shop_id'] = 11\n",
        "test.loc[test.shop_id == 10, 'shop_id'] = 11"
      ],
      "execution_count": null,
      "outputs": []
    },
    {
      "cell_type": "code",
      "metadata": {
        "id": "pOl4hjvi68x9",
        "colab_type": "code",
        "colab": {}
      },
      "source": [
        "shops.loc[ shops.shop_name == 'Сергиев Посад ТЦ \"7Я\"',\"shop_name\" ] = 'СергиевПосад ТЦ \"7Я\"'\n",
        "shops[\"city\"] = shops.shop_name.str.split(\" \").map( lambda x: x[0] )\n",
        "shops[\"category\"] = shops.shop_name.str.split(\" \").map( lambda x: x[1] )\n",
        "shops.loc[shops.city == \"!Якутск\", \"city\"] = \"Якутск\""
      ],
      "execution_count": null,
      "outputs": []
    },
    {
      "cell_type": "code",
      "metadata": {
        "id": "FE1tKHTI7AlU",
        "colab_type": "code",
        "colab": {}
      },
      "source": [
        "category = []\n",
        "for cat in shops.category.unique():\n",
        "    if len(shops[shops.category == cat]) >= 5:\n",
        "        category.append(cat)\n",
        "shops.category = shops.category.apply( lambda x: x if (x in category) else \"other\" )"
      ],
      "execution_count": null,
      "outputs": []
    },
    {
      "cell_type": "code",
      "metadata": {
        "id": "P-cgKMEC7Emx",
        "colab_type": "code",
        "colab": {}
      },
      "source": [
        "from sklearn.preprocessing import LabelEncoder\n",
        "shops[\"shop_category\"] = LabelEncoder().fit_transform( shops.category )\n",
        "shops[\"shop_city\"] = LabelEncoder().fit_transform( shops.city )\n",
        "shops = shops[[\"shop_id\", \"shop_category\", \"shop_city\"]]"
      ],
      "execution_count": null,
      "outputs": []
    },
    {
      "cell_type": "code",
      "metadata": {
        "id": "gF7NOABh7Ib4",
        "colab_type": "code",
        "colab": {}
      },
      "source": [
        "cats[\"type_code\"] = cats.item_category_name.apply( lambda x: x.split(\" \")[0] ).astype(str)\n",
        "cats.loc[ (cats.type_code == \"Игровые\")| (cats.type_code == \"Аксессуары\"), \"category\" ] = \"Игры\""
      ],
      "execution_count": null,
      "outputs": []
    },
    {
      "cell_type": "code",
      "metadata": {
        "id": "Q0A8XqOx7OUZ",
        "colab_type": "code",
        "colab": {}
      },
      "source": [
        "category = []\n",
        "for cat in cats.type_code.unique():\n",
        "    if len(cats[cats.type_code == cat]) >= 5: \n",
        "        category.append( cat )\n",
        "cats.type_code = cats.type_code.apply(lambda x: x if (x in category) else \"etc\")"
      ],
      "execution_count": null,
      "outputs": []
    },
    {
      "cell_type": "code",
      "metadata": {
        "id": "lJhqhXXB7QGC",
        "colab_type": "code",
        "colab": {}
      },
      "source": [
        "cats.type_code = LabelEncoder().fit_transform(cats.type_code)\n",
        "cats[\"split\"] = cats.item_category_name.apply(lambda x: x.split(\"-\"))\n",
        "cats[\"subtype\"] = cats.split.apply(lambda x: x[1].strip() if len(x) > 1 else x[0].strip())\n",
        "cats[\"subtype_code\"] = LabelEncoder().fit_transform( cats[\"subtype\"] )\n",
        "cats = cats[[\"item_category_id\", \"subtype_code\", \"type_code\"]]"
      ],
      "execution_count": null,
      "outputs": []
    },
    {
      "cell_type": "code",
      "metadata": {
        "id": "8Gn9NW6p7TR4",
        "colab_type": "code",
        "colab": {}
      },
      "source": [
        "import re\n",
        "def name_correction(x):\n",
        "    x = x.lower() # all letters lower case\n",
        "    x = x.partition('[')[0] # partition by square brackets\n",
        "    x = x.partition('(')[0] # partition by curly brackets\n",
        "    x = re.sub('[^A-Za-z0-9А-Яа-я]+', ' ', x) # remove special characters\n",
        "    x = x.replace('  ', ' ') # replace double spaces with single spaces\n",
        "    x = x.strip() # remove leading and trailing white space\n",
        "    return x"
      ],
      "execution_count": null,
      "outputs": []
    },
    {
      "cell_type": "code",
      "metadata": {
        "id": "9f6AtIaK7btx",
        "colab_type": "code",
        "colab": {
          "base_uri": "https://localhost:8080/",
          "height": 85
        },
        "outputId": "c519456b-d281-472b-ea35-5bd812aaeb2c"
      },
      "source": [
        "# split item names by first bracket\n",
        "items[\"name1\"], items[\"name2\"] = items.item_name.str.split(\"[\", 1).str\n",
        "items[\"name1\"], items[\"name3\"] = items.item_name.str.split(\"(\", 1).str\n",
        "\n",
        "# replace special characters and turn to lower case\n",
        "items[\"name2\"] = items.name2.str.replace('[^A-Za-z0-9А-Яа-я]+', \" \").str.lower()\n",
        "items[\"name3\"] = items.name3.str.replace('[^A-Za-z0-9А-Яа-я]+', \" \").str.lower()\n",
        "\n",
        "# fill nulls with '0'\n",
        "items = items.fillna('0')\n",
        "\n",
        "items[\"item_name\"] = items[\"item_name\"].apply(lambda x: name_correction(x))\n",
        "\n",
        "# return all characters except the last if name 2 is not \"0\" - the closing bracket\n",
        "items.name2 = items.name2.apply( lambda x: x[:-1] if x !=\"0\" else \"0\")"
      ],
      "execution_count": null,
      "outputs": [
        {
          "output_type": "stream",
          "text": [
            "/usr/local/lib/python3.6/dist-packages/ipykernel_launcher.py:2: FutureWarning: Columnar iteration over characters will be deprecated in future releases.\n",
            "  \n",
            "/usr/local/lib/python3.6/dist-packages/ipykernel_launcher.py:3: FutureWarning: Columnar iteration over characters will be deprecated in future releases.\n",
            "  This is separate from the ipykernel package so we can avoid doing imports until\n"
          ],
          "name": "stderr"
        }
      ]
    },
    {
      "cell_type": "code",
      "metadata": {
        "id": "D1D6YvUe7dON",
        "colab_type": "code",
        "colab": {}
      },
      "source": [
        "items[\"type\"] = items.name2.apply(lambda x: x[0:8] if x.split(\" \")[0] == \"xbox\" else x.split(\" \")[0] )\n",
        "items.loc[(items.type == \"x360\") | (items.type == \"xbox360\") | (items.type == \"xbox 360\") ,\"type\"] = \"xbox 360\"\n",
        "items.loc[ items.type == \"\", \"type\"] = \"mac\"\n",
        "items.type = items.type.apply( lambda x: x.replace(\" \", \"\") )\n",
        "items.loc[ (items.type == 'pc' )| (items.type == 'pс') | (items.type == \"pc\"), \"type\" ] = \"pc\"\n",
        "items.loc[ items.type == 'рs3' , \"type\"] = \"ps3\""
      ],
      "execution_count": null,
      "outputs": []
    },
    {
      "cell_type": "code",
      "metadata": {
        "id": "M-qVHjS77hoC",
        "colab_type": "code",
        "colab": {}
      },
      "source": [
        "group_sum = items.groupby([\"type\"]).agg({\"item_id\": \"count\"})\n",
        "group_sum = group_sum.reset_index()\n",
        "drop_cols = []\n",
        "for cat in group_sum.type.unique():\n",
        "    if group_sum.loc[(group_sum.type == cat), \"item_id\"].values[0] <40:\n",
        "        drop_cols.append(cat)\n",
        "items.name2 = items.name2.apply( lambda x: \"other\" if (x in drop_cols) else x )\n",
        "items = items.drop([\"type\"], axis = 1)"
      ],
      "execution_count": null,
      "outputs": []
    },
    {
      "cell_type": "code",
      "metadata": {
        "id": "g4h71yHz7lQg",
        "colab_type": "code",
        "colab": {
          "base_uri": "https://localhost:8080/",
          "height": 197
        },
        "outputId": "79981b6d-aac6-4bcc-e5f6-7bc465c2cee3"
      },
      "source": [
        "items.name2 = LabelEncoder().fit_transform(items.name2)\n",
        "items.name3 = LabelEncoder().fit_transform(items.name3)\n",
        "\n",
        "items.drop([\"item_name\", \"name1\"],axis = 1, inplace= True)\n",
        "items.head()"
      ],
      "execution_count": null,
      "outputs": [
        {
          "output_type": "execute_result",
          "data": {
            "text/html": [
              "<div>\n",
              "<style scoped>\n",
              "    .dataframe tbody tr th:only-of-type {\n",
              "        vertical-align: middle;\n",
              "    }\n",
              "\n",
              "    .dataframe tbody tr th {\n",
              "        vertical-align: top;\n",
              "    }\n",
              "\n",
              "    .dataframe thead th {\n",
              "        text-align: right;\n",
              "    }\n",
              "</style>\n",
              "<table border=\"1\" class=\"dataframe\">\n",
              "  <thead>\n",
              "    <tr style=\"text-align: right;\">\n",
              "      <th></th>\n",
              "      <th>item_id</th>\n",
              "      <th>item_category_id</th>\n",
              "      <th>name2</th>\n",
              "      <th>name3</th>\n",
              "    </tr>\n",
              "  </thead>\n",
              "  <tbody>\n",
              "    <tr>\n",
              "      <th>0</th>\n",
              "      <td>0</td>\n",
              "      <td>40</td>\n",
              "      <td>4</td>\n",
              "      <td>1331</td>\n",
              "    </tr>\n",
              "    <tr>\n",
              "      <th>1</th>\n",
              "      <td>1</td>\n",
              "      <td>76</td>\n",
              "      <td>64</td>\n",
              "      <td>42</td>\n",
              "    </tr>\n",
              "    <tr>\n",
              "      <th>2</th>\n",
              "      <td>2</td>\n",
              "      <td>40</td>\n",
              "      <td>4</td>\n",
              "      <td>1011</td>\n",
              "    </tr>\n",
              "    <tr>\n",
              "      <th>3</th>\n",
              "      <td>3</td>\n",
              "      <td>40</td>\n",
              "      <td>4</td>\n",
              "      <td>1010</td>\n",
              "    </tr>\n",
              "    <tr>\n",
              "      <th>4</th>\n",
              "      <td>4</td>\n",
              "      <td>40</td>\n",
              "      <td>4</td>\n",
              "      <td>1572</td>\n",
              "    </tr>\n",
              "  </tbody>\n",
              "</table>\n",
              "</div>"
            ],
            "text/plain": [
              "   item_id  item_category_id  name2  name3\n",
              "0        0                40      4   1331\n",
              "1        1                76     64     42\n",
              "2        2                40      4   1011\n",
              "3        3                40      4   1010\n",
              "4        4                40      4   1572"
            ]
          },
          "metadata": {
            "tags": []
          },
          "execution_count": 18
        }
      ]
    },
    {
      "cell_type": "code",
      "metadata": {
        "id": "8Wd_7y9a7o6s",
        "colab_type": "code",
        "colab": {
          "base_uri": "https://localhost:8080/",
          "height": 34
        },
        "outputId": "5ea0ec8b-335b-4f5b-b2bf-a5b3f423c957"
      },
      "source": [
        "from itertools import product\n",
        "import time\n",
        "ts = time.time()\n",
        "matrix = []\n",
        "cols  = [\"date_block_num\", \"shop_id\", \"item_id\"]\n",
        "for i in range(34):\n",
        "    sales = train[train.date_block_num == i]\n",
        "    matrix.append( np.array(list( product( [i], sales.shop_id.unique(), sales.item_id.unique() ) ), dtype = np.int16) )\n",
        "\n",
        "matrix = pd.DataFrame( np.vstack(matrix), columns = cols )\n",
        "matrix[\"date_block_num\"] = matrix[\"date_block_num\"].astype(np.int8)\n",
        "matrix[\"shop_id\"] = matrix[\"shop_id\"].astype(np.int8)\n",
        "matrix[\"item_id\"] = matrix[\"item_id\"].astype(np.int16)\n",
        "matrix.sort_values( cols, inplace = True )\n",
        "time.time()- ts"
      ],
      "execution_count": null,
      "outputs": [
        {
          "output_type": "execute_result",
          "data": {
            "text/plain": [
              "11.851993083953857"
            ]
          },
          "metadata": {
            "tags": []
          },
          "execution_count": 19
        }
      ]
    },
    {
      "cell_type": "code",
      "metadata": {
        "id": "aUd2ND0O7s9g",
        "colab_type": "code",
        "colab": {}
      },
      "source": [
        "# add revenue to train df\n",
        "train[\"revenue\"] = train[\"item_cnt_day\"] * train[\"item_price\"]"
      ],
      "execution_count": null,
      "outputs": []
    },
    {
      "cell_type": "code",
      "metadata": {
        "id": "giCxU-uE7zC6",
        "colab_type": "code",
        "colab": {
          "base_uri": "https://localhost:8080/",
          "height": 34
        },
        "outputId": "7fb356ef-4c45-4073-a4d1-fcff0ce06352"
      },
      "source": [
        "ts = time.time()\n",
        "group = train.groupby( [\"date_block_num\", \"shop_id\", \"item_id\"] ).agg( {\"item_cnt_day\": [\"sum\"]} )\n",
        "group.columns = [\"item_cnt_month\"]\n",
        "group.reset_index( inplace = True)\n",
        "matrix = pd.merge( matrix, group, on = cols, how = \"left\" )\n",
        "matrix[\"item_cnt_month\"] = matrix[\"item_cnt_month\"].fillna(0).astype(np.float16)\n",
        "time.time() - ts"
      ],
      "execution_count": null,
      "outputs": [
        {
          "output_type": "execute_result",
          "data": {
            "text/plain": [
              "4.994715929031372"
            ]
          },
          "metadata": {
            "tags": []
          },
          "execution_count": 21
        }
      ]
    },
    {
      "cell_type": "code",
      "metadata": {
        "id": "KG-lVP4c73K-",
        "colab_type": "code",
        "colab": {}
      },
      "source": [
        "test[\"date_block_num\"] = 34\n",
        "test[\"date_block_num\"] = test[\"date_block_num\"].astype(np.int8)\n",
        "test[\"shop_id\"] = test.shop_id.astype(np.int8)\n",
        "test[\"item_id\"] = test.item_id.astype(np.int16)"
      ],
      "execution_count": null,
      "outputs": []
    },
    {
      "cell_type": "code",
      "metadata": {
        "id": "C28ecVe_7_YR",
        "colab_type": "code",
        "colab": {
          "base_uri": "https://localhost:8080/",
          "height": 34
        },
        "outputId": "5f059324-3be8-4ea8-ae8d-979380e480f3"
      },
      "source": [
        "ts = time.time()\n",
        "\n",
        "matrix = pd.concat([matrix, test.drop([\"ID\"],axis = 1)], ignore_index=True, sort=False, keys=cols)\n",
        "matrix.fillna( 0, inplace = True )\n",
        "time.time() - ts"
      ],
      "execution_count": null,
      "outputs": [
        {
          "output_type": "execute_result",
          "data": {
            "text/plain": [
              "0.09147119522094727"
            ]
          },
          "metadata": {
            "tags": []
          },
          "execution_count": 23
        }
      ]
    },
    {
      "cell_type": "code",
      "metadata": {
        "id": "SFHcDPCc8ED7",
        "colab_type": "code",
        "colab": {
          "base_uri": "https://localhost:8080/",
          "height": 34
        },
        "outputId": "cb23f8ca-d008-4a18-f7bf-a931de79fdee"
      },
      "source": [
        "ts = time.time()\n",
        "matrix = pd.merge( matrix, shops, on = [\"shop_id\"], how = \"left\" )\n",
        "matrix = pd.merge(matrix, items, on = [\"item_id\"], how = \"left\")\n",
        "matrix = pd.merge( matrix, cats, on = [\"item_category_id\"], how = \"left\" )\n",
        "matrix[\"shop_city\"] = matrix[\"shop_city\"].astype(np.int8)\n",
        "matrix[\"shop_category\"] = matrix[\"shop_category\"].astype(np.int8)\n",
        "matrix[\"item_category_id\"] = matrix[\"item_category_id\"].astype(np.int8)\n",
        "matrix[\"subtype_code\"] = matrix[\"subtype_code\"].astype(np.int8)\n",
        "matrix[\"name2\"] = matrix[\"name2\"].astype(np.int8)\n",
        "matrix[\"name3\"] = matrix[\"name3\"].astype(np.int16)\n",
        "matrix[\"type_code\"] = matrix[\"type_code\"].astype(np.int8)\n",
        "time.time() - ts"
      ],
      "execution_count": null,
      "outputs": [
        {
          "output_type": "execute_result",
          "data": {
            "text/plain": [
              "3.864502429962158"
            ]
          },
          "metadata": {
            "tags": []
          },
          "execution_count": 24
        }
      ]
    },
    {
      "cell_type": "code",
      "metadata": {
        "id": "VWRoaVZQ8GvB",
        "colab_type": "code",
        "colab": {}
      },
      "source": [
        "# Define a lag feature function\n",
        "def lag_feature( df,lags, cols ):\n",
        "    for col in cols:\n",
        "        print(col)\n",
        "        tmp = df[[\"date_block_num\", \"shop_id\",\"item_id\",col ]]\n",
        "        for i in lags:\n",
        "            shifted = tmp.copy()\n",
        "            shifted.columns = [\"date_block_num\", \"shop_id\", \"item_id\", col + \"_lag_\"+str(i)]\n",
        "            shifted.date_block_num = shifted.date_block_num + i\n",
        "            df = pd.merge(df, shifted, on=['date_block_num','shop_id','item_id'], how='left')\n",
        "    return df"
      ],
      "execution_count": null,
      "outputs": []
    },
    {
      "cell_type": "code",
      "metadata": {
        "id": "HkGjnMCg8L-T",
        "colab_type": "code",
        "colab": {
          "base_uri": "https://localhost:8080/",
          "height": 51
        },
        "outputId": "81b8acd6-150f-4f33-ff90-2e04d1084aac"
      },
      "source": [
        "ts = time.time()\n",
        "matrix = lag_feature( matrix, [1,2,3], [\"item_cnt_month\"] )\n",
        "time.time() - ts"
      ],
      "execution_count": null,
      "outputs": [
        {
          "output_type": "stream",
          "text": [
            "item_cnt_month\n"
          ],
          "name": "stdout"
        },
        {
          "output_type": "execute_result",
          "data": {
            "text/plain": [
              "22.262478590011597"
            ]
          },
          "metadata": {
            "tags": []
          },
          "execution_count": 26
        }
      ]
    },
    {
      "cell_type": "code",
      "metadata": {
        "id": "y0B9zXqU8QIA",
        "colab_type": "code",
        "colab": {
          "base_uri": "https://localhost:8080/",
          "height": 51
        },
        "outputId": "023dbc62-dd9b-4f6e-ac7a-be37af8514c2"
      },
      "source": [
        "ts = time.time()\n",
        "group = matrix.groupby( [\"date_block_num\"] ).agg({\"item_cnt_month\" : [\"mean\"]})\n",
        "group.columns = [\"date_avg_item_cnt\"]\n",
        "group.reset_index(inplace = True)\n",
        "\n",
        "matrix = pd.merge(matrix, group, on = [\"date_block_num\"], how = \"left\")\n",
        "matrix.date_avg_item_cnt = matrix[\"date_avg_item_cnt\"].astype(np.float16)\n",
        "matrix = lag_feature( matrix, [1], [\"date_avg_item_cnt\"] )\n",
        "matrix.drop( [\"date_avg_item_cnt\"], axis = 1, inplace = True )\n",
        "time.time() - ts"
      ],
      "execution_count": null,
      "outputs": [
        {
          "output_type": "stream",
          "text": [
            "date_avg_item_cnt\n"
          ],
          "name": "stdout"
        },
        {
          "output_type": "execute_result",
          "data": {
            "text/plain": [
              "11.455872297286987"
            ]
          },
          "metadata": {
            "tags": []
          },
          "execution_count": 27
        }
      ]
    },
    {
      "cell_type": "code",
      "metadata": {
        "id": "4f77VDQg8VQR",
        "colab_type": "code",
        "colab": {
          "base_uri": "https://localhost:8080/",
          "height": 51
        },
        "outputId": "58d2859c-f5d2-4578-b56f-554fe3696af9"
      },
      "source": [
        "ts = time.time()\n",
        "group = matrix.groupby(['date_block_num', 'item_id']).agg({'item_cnt_month': ['mean']})\n",
        "group.columns = [ 'date_item_avg_item_cnt' ]\n",
        "group.reset_index(inplace=True)\n",
        "\n",
        "matrix = pd.merge(matrix, group, on=['date_block_num','item_id'], how='left')\n",
        "matrix.date_item_avg_item_cnt = matrix['date_item_avg_item_cnt'].astype(np.float16)\n",
        "matrix = lag_feature(matrix, [1,2,3], ['date_item_avg_item_cnt'])\n",
        "matrix.drop(['date_item_avg_item_cnt'], axis=1, inplace=True)\n",
        "time.time() - ts"
      ],
      "execution_count": null,
      "outputs": [
        {
          "output_type": "stream",
          "text": [
            "date_item_avg_item_cnt\n"
          ],
          "name": "stdout"
        },
        {
          "output_type": "execute_result",
          "data": {
            "text/plain": [
              "27.103676795959473"
            ]
          },
          "metadata": {
            "tags": []
          },
          "execution_count": 28
        }
      ]
    },
    {
      "cell_type": "code",
      "metadata": {
        "id": "bquMPB2L8auZ",
        "colab_type": "code",
        "colab": {
          "base_uri": "https://localhost:8080/",
          "height": 85
        },
        "outputId": "85e6f4bf-2f59-4354-af44-c29b8b7e9e40"
      },
      "source": [
        "ts = time.time()\n",
        "group = matrix.groupby( [\"date_block_num\",\"shop_id\"] ).agg({\"item_cnt_month\" : [\"mean\"]})\n",
        "group.columns = [\"date_shop_avg_item_cnt\"]\n",
        "group.reset_index(inplace = True)\n",
        "\n",
        "matrix = pd.merge(matrix, group, on = [\"date_block_num\",\"shop_id\"], how = \"left\")\n",
        "matrix.date_avg_item_cnt = matrix[\"date_shop_avg_item_cnt\"].astype(np.float16)\n",
        "matrix = lag_feature( matrix, [1,2,3], [\"date_shop_avg_item_cnt\"] )\n",
        "matrix.drop( [\"date_shop_avg_item_cnt\"], axis = 1, inplace = True )\n",
        "time.time() - ts"
      ],
      "execution_count": null,
      "outputs": [
        {
          "output_type": "stream",
          "text": [
            "/usr/local/lib/python3.6/dist-packages/ipykernel_launcher.py:7: UserWarning: Pandas doesn't allow columns to be created via a new attribute name - see https://pandas.pydata.org/pandas-docs/stable/indexing.html#attribute-access\n",
            "  import sys\n"
          ],
          "name": "stderr"
        },
        {
          "output_type": "stream",
          "text": [
            "date_shop_avg_item_cnt\n"
          ],
          "name": "stdout"
        },
        {
          "output_type": "execute_result",
          "data": {
            "text/plain": [
              "27.959697246551514"
            ]
          },
          "metadata": {
            "tags": []
          },
          "execution_count": 29
        }
      ]
    },
    {
      "cell_type": "code",
      "metadata": {
        "id": "agNuhKMb8eFB",
        "colab_type": "code",
        "colab": {
          "base_uri": "https://localhost:8080/",
          "height": 85
        },
        "outputId": "f6920cb2-5dee-49d7-d367-1c49da085f7d"
      },
      "source": [
        "ts = time.time()\n",
        "group = matrix.groupby( [\"date_block_num\",\"shop_id\",\"item_id\"] ).agg({\"item_cnt_month\" : [\"mean\"]})\n",
        "group.columns = [\"date_shop_item_avg_item_cnt\"]\n",
        "group.reset_index(inplace = True)\n",
        "\n",
        "matrix = pd.merge(matrix, group, on = [\"date_block_num\",\"shop_id\",\"item_id\"], how = \"left\")\n",
        "matrix.date_avg_item_cnt = matrix[\"date_shop_item_avg_item_cnt\"].astype(np.float16)\n",
        "matrix = lag_feature( matrix, [1,2,3], [\"date_shop_item_avg_item_cnt\"] )\n",
        "matrix.drop( [\"date_shop_item_avg_item_cnt\"], axis = 1, inplace = True )\n",
        "time.time() - ts"
      ],
      "execution_count": null,
      "outputs": [
        {
          "output_type": "stream",
          "text": [
            "/usr/local/lib/python3.6/dist-packages/ipykernel_launcher.py:7: UserWarning: Pandas doesn't allow columns to be created via a new attribute name - see https://pandas.pydata.org/pandas-docs/stable/indexing.html#attribute-access\n",
            "  import sys\n"
          ],
          "name": "stderr"
        },
        {
          "output_type": "stream",
          "text": [
            "date_shop_item_avg_item_cnt\n"
          ],
          "name": "stdout"
        },
        {
          "output_type": "execute_result",
          "data": {
            "text/plain": [
              "41.370965003967285"
            ]
          },
          "metadata": {
            "tags": []
          },
          "execution_count": 30
        }
      ]
    },
    {
      "cell_type": "code",
      "metadata": {
        "id": "4l1FX76o8jRn",
        "colab_type": "code",
        "colab": {
          "base_uri": "https://localhost:8080/",
          "height": 51
        },
        "outputId": "f62336db-287a-450c-8128-33b26604c909"
      },
      "source": [
        "ts = time.time()\n",
        "group = matrix.groupby(['date_block_num', 'shop_id', 'subtype_code']).agg({'item_cnt_month': ['mean']})\n",
        "group.columns = ['date_shop_subtype_avg_item_cnt']\n",
        "group.reset_index(inplace=True)\n",
        "\n",
        "matrix = pd.merge(matrix, group, on=['date_block_num', 'shop_id', 'subtype_code'], how='left')\n",
        "matrix.date_shop_subtype_avg_item_cnt = matrix['date_shop_subtype_avg_item_cnt'].astype(np.float16)\n",
        "matrix = lag_feature(matrix, [1], ['date_shop_subtype_avg_item_cnt'])\n",
        "matrix.drop(['date_shop_subtype_avg_item_cnt'], axis=1, inplace=True)\n",
        "time.time() - ts"
      ],
      "execution_count": null,
      "outputs": [
        {
          "output_type": "stream",
          "text": [
            "date_shop_subtype_avg_item_cnt\n"
          ],
          "name": "stdout"
        },
        {
          "output_type": "execute_result",
          "data": {
            "text/plain": [
              "15.021512031555176"
            ]
          },
          "metadata": {
            "tags": []
          },
          "execution_count": 31
        }
      ]
    },
    {
      "cell_type": "code",
      "metadata": {
        "id": "n5aLciiu8oNB",
        "colab_type": "code",
        "colab": {
          "base_uri": "https://localhost:8080/",
          "height": 51
        },
        "outputId": "dfc1145b-7c69-4418-83df-50a61894a1ec"
      },
      "source": [
        "ts = time.time()\n",
        "group = matrix.groupby(['date_block_num', 'shop_city']).agg({'item_cnt_month': ['mean']})\n",
        "group.columns = ['date_city_avg_item_cnt']\n",
        "group.reset_index(inplace=True)\n",
        "\n",
        "matrix = pd.merge(matrix, group, on=['date_block_num', \"shop_city\"], how='left')\n",
        "matrix.date_city_avg_item_cnt = matrix['date_city_avg_item_cnt'].astype(np.float16)\n",
        "matrix = lag_feature(matrix, [1], ['date_city_avg_item_cnt'])\n",
        "matrix.drop(['date_city_avg_item_cnt'], axis=1, inplace=True)\n",
        "time.time() - ts"
      ],
      "execution_count": null,
      "outputs": [
        {
          "output_type": "stream",
          "text": [
            "date_city_avg_item_cnt\n"
          ],
          "name": "stdout"
        },
        {
          "output_type": "execute_result",
          "data": {
            "text/plain": [
              "14.846555233001709"
            ]
          },
          "metadata": {
            "tags": []
          },
          "execution_count": 32
        }
      ]
    },
    {
      "cell_type": "code",
      "metadata": {
        "id": "J5YdBX888tUY",
        "colab_type": "code",
        "colab": {
          "base_uri": "https://localhost:8080/",
          "height": 51
        },
        "outputId": "5b80d67c-4f66-426c-b6cc-3c5cb2ce1793"
      },
      "source": [
        "ts = time.time()\n",
        "group = matrix.groupby(['date_block_num', 'item_id', 'shop_city']).agg({'item_cnt_month': ['mean']})\n",
        "group.columns = [ 'date_item_city_avg_item_cnt' ]\n",
        "group.reset_index(inplace=True)\n",
        "\n",
        "matrix = pd.merge(matrix, group, on=['date_block_num', 'item_id', 'shop_city'], how='left')\n",
        "matrix.date_item_city_avg_item_cnt = matrix['date_item_city_avg_item_cnt'].astype(np.float16)\n",
        "matrix = lag_feature(matrix, [1], ['date_item_city_avg_item_cnt'])\n",
        "matrix.drop(['date_item_city_avg_item_cnt'], axis=1, inplace=True)\n",
        "time.time() - ts"
      ],
      "execution_count": null,
      "outputs": [
        {
          "output_type": "stream",
          "text": [
            "date_item_city_avg_item_cnt\n"
          ],
          "name": "stdout"
        },
        {
          "output_type": "execute_result",
          "data": {
            "text/plain": [
              "23.393680572509766"
            ]
          },
          "metadata": {
            "tags": []
          },
          "execution_count": 33
        }
      ]
    },
    {
      "cell_type": "code",
      "metadata": {
        "id": "MhGVORhb8yaW",
        "colab_type": "code",
        "colab": {
          "base_uri": "https://localhost:8080/",
          "height": 51
        },
        "outputId": "3f4b3473-e657-4c06-dae9-378099a6c423"
      },
      "source": [
        "ts = time.time()\n",
        "group = train.groupby( [\"item_id\"] ).agg({\"item_price\": [\"mean\"]})\n",
        "group.columns = [\"item_avg_item_price\"]\n",
        "group.reset_index(inplace = True)\n",
        "\n",
        "matrix = matrix.merge( group, on = [\"item_id\"], how = \"left\" )\n",
        "matrix[\"item_avg_item_price\"] = matrix.item_avg_item_price.astype(np.float16)\n",
        "\n",
        "\n",
        "group = train.groupby( [\"date_block_num\",\"item_id\"] ).agg( {\"item_price\": [\"mean\"]} )\n",
        "group.columns = [\"date_item_avg_item_price\"]\n",
        "group.reset_index(inplace = True)\n",
        "\n",
        "matrix = matrix.merge(group, on = [\"date_block_num\",\"item_id\"], how = \"left\")\n",
        "matrix[\"date_item_avg_item_price\"] = matrix.date_item_avg_item_price.astype(np.float16)\n",
        "lags = [1, 2, 3]\n",
        "matrix = lag_feature( matrix, lags, [\"date_item_avg_item_price\"] )\n",
        "for i in lags:\n",
        "    matrix[\"delta_price_lag_\" + str(i) ] = (matrix[\"date_item_avg_item_price_lag_\" + str(i)]- matrix[\"item_avg_item_price\"] )/ matrix[\"item_avg_item_price\"]\n",
        "\n",
        "def select_trends(row) :\n",
        "    for i in lags:\n",
        "        if row[\"delta_price_lag_\" + str(i)]:\n",
        "            return row[\"delta_price_lag_\" + str(i)]\n",
        "    return 0\n",
        "\n",
        "\n",
        "matrix[\"delta_price_lag\"] = matrix.apply(select_trends, axis = 1)\n",
        "matrix[\"delta_price_lag\"] = matrix.delta_price_lag.astype( np.float16 )\n",
        "matrix[\"delta_price_lag\"].fillna( 0 ,inplace = True)\n",
        "\n",
        "features_to_drop = [\"item_avg_item_price\", \"date_item_avg_item_price\"]\n",
        "for i in lags:\n",
        "    features_to_drop.append(\"date_item_avg_item_price_lag_\" + str(i) )\n",
        "    features_to_drop.append(\"delta_price_lag_\" + str(i) )\n",
        "matrix.drop(features_to_drop, axis = 1, inplace = True)\n",
        "time.time() - ts"
      ],
      "execution_count": null,
      "outputs": [
        {
          "output_type": "stream",
          "text": [
            "date_item_avg_item_price\n"
          ],
          "name": "stdout"
        },
        {
          "output_type": "execute_result",
          "data": {
            "text/plain": [
              "309.12245202064514"
            ]
          },
          "metadata": {
            "tags": []
          },
          "execution_count": 34
        }
      ]
    },
    {
      "cell_type": "code",
      "metadata": {
        "id": "FCW9Q0Hs9GhR",
        "colab_type": "code",
        "colab": {
          "base_uri": "https://localhost:8080/",
          "height": 51
        },
        "outputId": "c669001f-288e-4fed-bb3c-2d60b3edb7b0"
      },
      "source": [
        "ts = time.time()\n",
        "group = train.groupby( [\"date_block_num\",\"shop_id\"] ).agg({\"revenue\": [\"sum\"] })\n",
        "group.columns = [\"date_shop_revenue\"]\n",
        "group.reset_index(inplace = True)\n",
        "\n",
        "matrix = matrix.merge( group , on = [\"date_block_num\", \"shop_id\"], how = \"left\" )\n",
        "matrix['date_shop_revenue'] = matrix['date_shop_revenue'].astype(np.float32)\n",
        "\n",
        "group = group.groupby([\"shop_id\"]).agg({ \"date_block_num\":[\"mean\"] })\n",
        "group.columns = [\"shop_avg_revenue\"]\n",
        "group.reset_index(inplace = True )\n",
        "\n",
        "matrix = matrix.merge( group, on = [\"shop_id\"], how = \"left\" )\n",
        "matrix[\"shop_avg_revenue\"] = matrix.shop_avg_revenue.astype(np.float32)\n",
        "matrix[\"delta_revenue\"] = (matrix['date_shop_revenue'] - matrix['shop_avg_revenue']) / matrix['shop_avg_revenue']\n",
        "matrix[\"delta_revenue\"] = matrix[\"delta_revenue\"]. astype(np.float32)\n",
        "\n",
        "matrix = lag_feature(matrix, [1], [\"delta_revenue\"])\n",
        "matrix[\"delta_revenue_lag_1\"] = matrix[\"delta_revenue_lag_1\"].astype(np.float32)\n",
        "matrix.drop( [\"date_shop_revenue\", \"shop_avg_revenue\", \"delta_revenue\"] ,axis = 1, inplace = True)\n",
        "time.time() - ts"
      ],
      "execution_count": null,
      "outputs": [
        {
          "output_type": "stream",
          "text": [
            "delta_revenue\n"
          ],
          "name": "stdout"
        },
        {
          "output_type": "execute_result",
          "data": {
            "text/plain": [
              "15.983875751495361"
            ]
          },
          "metadata": {
            "tags": []
          },
          "execution_count": 35
        }
      ]
    },
    {
      "cell_type": "code",
      "metadata": {
        "id": "_oozNeHk9MkK",
        "colab_type": "code",
        "colab": {}
      },
      "source": [
        "matrix[\"month\"] = matrix[\"date_block_num\"] % 12\n",
        "days = pd.Series([31,28,31,30,31,30,31,31,30,31,30,31])\n",
        "matrix[\"days\"] = matrix[\"month\"].map(days).astype(np.int8)"
      ],
      "execution_count": null,
      "outputs": []
    },
    {
      "cell_type": "code",
      "metadata": {
        "id": "KUeMpuNQ9Q8Z",
        "colab_type": "code",
        "colab": {
          "base_uri": "https://localhost:8080/",
          "height": 34
        },
        "outputId": "b0b4ab6e-4647-4977-c52f-b147811a8cba"
      },
      "source": [
        "ts = time.time()\n",
        "matrix[\"item_shop_first_sale\"] = matrix[\"date_block_num\"] - matrix.groupby([\"item_id\",\"shop_id\"])[\"date_block_num\"].transform('min')\n",
        "matrix[\"item_first_sale\"] = matrix[\"date_block_num\"] - matrix.groupby([\"item_id\"])[\"date_block_num\"].transform('min')\n",
        "time.time() - ts"
      ],
      "execution_count": null,
      "outputs": [
        {
          "output_type": "execute_result",
          "data": {
            "text/plain": [
              "1.988295078277588"
            ]
          },
          "metadata": {
            "tags": []
          },
          "execution_count": 37
        }
      ]
    },
    {
      "cell_type": "code",
      "metadata": {
        "id": "1AkXDnsO9UJr",
        "colab_type": "code",
        "colab": {
          "base_uri": "https://localhost:8080/",
          "height": 34
        },
        "outputId": "a52f1588-babd-402d-d3f9-594364ad2e2a"
      },
      "source": [
        "ts = time.time()\n",
        "matrix = matrix[matrix[\"date_block_num\"] > 3]\n",
        "time.time() - ts"
      ],
      "execution_count": null,
      "outputs": [
        {
          "output_type": "execute_result",
          "data": {
            "text/plain": [
              "1.058492660522461"
            ]
          },
          "metadata": {
            "tags": []
          },
          "execution_count": 38
        }
      ]
    },
    {
      "cell_type": "code",
      "metadata": {
        "id": "dDZS5tEX9Xwu",
        "colab_type": "code",
        "colab": {}
      },
      "source": [
        "import gc\n",
        "import pickle\n",
        "from xgboost import XGBRegressor\n",
        "from matplotlib.pylab import rcParams\n",
        "rcParams['figure.figsize'] = 12, 4"
      ],
      "execution_count": null,
      "outputs": []
    },
    {
      "cell_type": "code",
      "metadata": {
        "id": "tb5WEovm9cEv",
        "colab_type": "code",
        "colab": {
          "base_uri": "https://localhost:8080/",
          "height": 34
        },
        "outputId": "cbfa8ce1-f5fe-4622-829b-4021f2fcce63"
      },
      "source": [
        "data = matrix.copy()\n",
        "del matrix\n",
        "gc.collect()"
      ],
      "execution_count": null,
      "outputs": [
        {
          "output_type": "execute_result",
          "data": {
            "text/plain": [
              "12"
            ]
          },
          "metadata": {
            "tags": []
          },
          "execution_count": 40
        }
      ]
    },
    {
      "cell_type": "code",
      "metadata": {
        "id": "BFP0JiXD9fol",
        "colab_type": "code",
        "colab": {
          "base_uri": "https://localhost:8080/",
          "height": 34
        },
        "outputId": "470e6013-f6b8-4870-c75e-c400351186be"
      },
      "source": [
        "data[data[\"date_block_num\"]==34].shape"
      ],
      "execution_count": null,
      "outputs": [
        {
          "output_type": "execute_result",
          "data": {
            "text/plain": [
              "(214200, 33)"
            ]
          },
          "metadata": {
            "tags": []
          },
          "execution_count": 41
        }
      ]
    },
    {
      "cell_type": "code",
      "metadata": {
        "id": "x3El2T6N9iwk",
        "colab_type": "code",
        "colab": {}
      },
      "source": [
        "X_train = data[data.date_block_num < 33].drop(['item_cnt_month'], axis=1)\n",
        "Y_train = data[data.date_block_num < 33]['item_cnt_month']\n",
        "X_valid = data[data.date_block_num == 33].drop(['item_cnt_month'], axis=1)\n",
        "Y_valid = data[data.date_block_num == 33]['item_cnt_month']\n",
        "X_test = data[data.date_block_num == 34].drop(['item_cnt_month'], axis=1)"
      ],
      "execution_count": null,
      "outputs": []
    },
    {
      "cell_type": "code",
      "metadata": {
        "id": "rA4HxBXz9mf0",
        "colab_type": "code",
        "colab": {}
      },
      "source": [
        "Y_train = Y_train.clip(0, 20)\n",
        "Y_valid = Y_valid.clip(0, 20)"
      ],
      "execution_count": null,
      "outputs": []
    },
    {
      "cell_type": "code",
      "metadata": {
        "id": "xzDpL7t59pWr",
        "colab_type": "code",
        "colab": {}
      },
      "source": [
        "del data\n",
        "gc.collect();"
      ],
      "execution_count": null,
      "outputs": []
    },
    {
      "cell_type": "code",
      "metadata": {
        "id": "kIA2eqtzyW4P",
        "colab_type": "code",
        "colab": {
          "base_uri": "https://localhost:8080/",
          "height": 425
        },
        "outputId": "3449746d-bca8-447f-d673-0f4d3b3909ae"
      },
      "source": [
        "X_train"
      ],
      "execution_count": null,
      "outputs": [
        {
          "output_type": "execute_result",
          "data": {
            "text/html": [
              "<div>\n",
              "<style scoped>\n",
              "    .dataframe tbody tr th:only-of-type {\n",
              "        vertical-align: middle;\n",
              "    }\n",
              "\n",
              "    .dataframe tbody tr th {\n",
              "        vertical-align: top;\n",
              "    }\n",
              "\n",
              "    .dataframe thead th {\n",
              "        text-align: right;\n",
              "    }\n",
              "</style>\n",
              "<table border=\"1\" class=\"dataframe\">\n",
              "  <thead>\n",
              "    <tr style=\"text-align: right;\">\n",
              "      <th></th>\n",
              "      <th>date_block_num</th>\n",
              "      <th>shop_id</th>\n",
              "      <th>item_id</th>\n",
              "      <th>shop_category</th>\n",
              "      <th>shop_city</th>\n",
              "      <th>item_category_id</th>\n",
              "      <th>name2</th>\n",
              "      <th>name3</th>\n",
              "      <th>subtype_code</th>\n",
              "      <th>type_code</th>\n",
              "      <th>item_cnt_month_lag_1</th>\n",
              "      <th>item_cnt_month_lag_2</th>\n",
              "      <th>item_cnt_month_lag_3</th>\n",
              "      <th>date_avg_item_cnt_lag_1</th>\n",
              "      <th>date_item_avg_item_cnt_lag_1</th>\n",
              "      <th>date_item_avg_item_cnt_lag_2</th>\n",
              "      <th>date_item_avg_item_cnt_lag_3</th>\n",
              "      <th>date_shop_avg_item_cnt_lag_1</th>\n",
              "      <th>date_shop_avg_item_cnt_lag_2</th>\n",
              "      <th>date_shop_avg_item_cnt_lag_3</th>\n",
              "      <th>date_shop_item_avg_item_cnt_lag_1</th>\n",
              "      <th>date_shop_item_avg_item_cnt_lag_2</th>\n",
              "      <th>date_shop_item_avg_item_cnt_lag_3</th>\n",
              "      <th>date_shop_subtype_avg_item_cnt_lag_1</th>\n",
              "      <th>date_city_avg_item_cnt_lag_1</th>\n",
              "      <th>date_item_city_avg_item_cnt_lag_1</th>\n",
              "      <th>delta_price_lag</th>\n",
              "      <th>delta_revenue_lag_1</th>\n",
              "      <th>month</th>\n",
              "      <th>days</th>\n",
              "      <th>item_shop_first_sale</th>\n",
              "      <th>item_first_sale</th>\n",
              "    </tr>\n",
              "  </thead>\n",
              "  <tbody>\n",
              "    <tr>\n",
              "      <th>1497465</th>\n",
              "      <td>4</td>\n",
              "      <td>2</td>\n",
              "      <td>27</td>\n",
              "      <td>4</td>\n",
              "      <td>0</td>\n",
              "      <td>19</td>\n",
              "      <td>76</td>\n",
              "      <td>42</td>\n",
              "      <td>10</td>\n",
              "      <td>3</td>\n",
              "      <td>0.0</td>\n",
              "      <td>0.0</td>\n",
              "      <td>0.0</td>\n",
              "      <td>0.286865</td>\n",
              "      <td>0.021744</td>\n",
              "      <td>0.086975</td>\n",
              "      <td>0.065247</td>\n",
              "      <td>0.071838</td>\n",
              "      <td>0.091064</td>\n",
              "      <td>0.059875</td>\n",
              "      <td>0.0</td>\n",
              "      <td>0.0</td>\n",
              "      <td>0.0</td>\n",
              "      <td>0.449463</td>\n",
              "      <td>0.071838</td>\n",
              "      <td>0.0</td>\n",
              "      <td>0.367676</td>\n",
              "      <td>37326.816406</td>\n",
              "      <td>4</td>\n",
              "      <td>31</td>\n",
              "      <td>4</td>\n",
              "      <td>4</td>\n",
              "    </tr>\n",
              "    <tr>\n",
              "      <th>1497466</th>\n",
              "      <td>4</td>\n",
              "      <td>2</td>\n",
              "      <td>28</td>\n",
              "      <td>4</td>\n",
              "      <td>0</td>\n",
              "      <td>30</td>\n",
              "      <td>107</td>\n",
              "      <td>42</td>\n",
              "      <td>55</td>\n",
              "      <td>3</td>\n",
              "      <td>0.0</td>\n",
              "      <td>0.0</td>\n",
              "      <td>0.0</td>\n",
              "      <td>0.286865</td>\n",
              "      <td>0.130493</td>\n",
              "      <td>0.152222</td>\n",
              "      <td>0.173950</td>\n",
              "      <td>0.071838</td>\n",
              "      <td>0.091064</td>\n",
              "      <td>0.059875</td>\n",
              "      <td>0.0</td>\n",
              "      <td>0.0</td>\n",
              "      <td>0.0</td>\n",
              "      <td>0.387207</td>\n",
              "      <td>0.071838</td>\n",
              "      <td>0.0</td>\n",
              "      <td>0.256348</td>\n",
              "      <td>37326.816406</td>\n",
              "      <td>4</td>\n",
              "      <td>31</td>\n",
              "      <td>4</td>\n",
              "      <td>4</td>\n",
              "    </tr>\n",
              "    <tr>\n",
              "      <th>1497467</th>\n",
              "      <td>4</td>\n",
              "      <td>2</td>\n",
              "      <td>29</td>\n",
              "      <td>4</td>\n",
              "      <td>0</td>\n",
              "      <td>23</td>\n",
              "      <td>123</td>\n",
              "      <td>42</td>\n",
              "      <td>16</td>\n",
              "      <td>3</td>\n",
              "      <td>NaN</td>\n",
              "      <td>NaN</td>\n",
              "      <td>NaN</td>\n",
              "      <td>NaN</td>\n",
              "      <td>NaN</td>\n",
              "      <td>NaN</td>\n",
              "      <td>NaN</td>\n",
              "      <td>NaN</td>\n",
              "      <td>NaN</td>\n",
              "      <td>NaN</td>\n",
              "      <td>NaN</td>\n",
              "      <td>NaN</td>\n",
              "      <td>NaN</td>\n",
              "      <td>NaN</td>\n",
              "      <td>NaN</td>\n",
              "      <td>NaN</td>\n",
              "      <td>0.000000</td>\n",
              "      <td>NaN</td>\n",
              "      <td>4</td>\n",
              "      <td>31</td>\n",
              "      <td>4</td>\n",
              "      <td>4</td>\n",
              "    </tr>\n",
              "    <tr>\n",
              "      <th>1497468</th>\n",
              "      <td>4</td>\n",
              "      <td>2</td>\n",
              "      <td>30</td>\n",
              "      <td>4</td>\n",
              "      <td>0</td>\n",
              "      <td>40</td>\n",
              "      <td>4</td>\n",
              "      <td>42</td>\n",
              "      <td>4</td>\n",
              "      <td>5</td>\n",
              "      <td>0.0</td>\n",
              "      <td>1.0</td>\n",
              "      <td>0.0</td>\n",
              "      <td>0.286865</td>\n",
              "      <td>2.826172</td>\n",
              "      <td>11.046875</td>\n",
              "      <td>18.734375</td>\n",
              "      <td>0.071838</td>\n",
              "      <td>0.091064</td>\n",
              "      <td>0.059875</td>\n",
              "      <td>0.0</td>\n",
              "      <td>1.0</td>\n",
              "      <td>0.0</td>\n",
              "      <td>0.018585</td>\n",
              "      <td>0.071838</td>\n",
              "      <td>0.0</td>\n",
              "      <td>0.212402</td>\n",
              "      <td>37326.816406</td>\n",
              "      <td>4</td>\n",
              "      <td>31</td>\n",
              "      <td>3</td>\n",
              "      <td>3</td>\n",
              "    </tr>\n",
              "    <tr>\n",
              "      <th>1497469</th>\n",
              "      <td>4</td>\n",
              "      <td>2</td>\n",
              "      <td>31</td>\n",
              "      <td>4</td>\n",
              "      <td>0</td>\n",
              "      <td>37</td>\n",
              "      <td>4</td>\n",
              "      <td>562</td>\n",
              "      <td>1</td>\n",
              "      <td>5</td>\n",
              "      <td>1.0</td>\n",
              "      <td>1.0</td>\n",
              "      <td>4.0</td>\n",
              "      <td>0.286865</td>\n",
              "      <td>1.260742</td>\n",
              "      <td>4.781250</td>\n",
              "      <td>13.648438</td>\n",
              "      <td>0.071838</td>\n",
              "      <td>0.091064</td>\n",
              "      <td>0.059875</td>\n",
              "      <td>1.0</td>\n",
              "      <td>1.0</td>\n",
              "      <td>4.0</td>\n",
              "      <td>0.035919</td>\n",
              "      <td>0.071838</td>\n",
              "      <td>1.0</td>\n",
              "      <td>0.191040</td>\n",
              "      <td>37326.816406</td>\n",
              "      <td>4</td>\n",
              "      <td>31</td>\n",
              "      <td>3</td>\n",
              "      <td>3</td>\n",
              "    </tr>\n",
              "    <tr>\n",
              "      <th>...</th>\n",
              "      <td>...</td>\n",
              "      <td>...</td>\n",
              "      <td>...</td>\n",
              "      <td>...</td>\n",
              "      <td>...</td>\n",
              "      <td>...</td>\n",
              "      <td>...</td>\n",
              "      <td>...</td>\n",
              "      <td>...</td>\n",
              "      <td>...</td>\n",
              "      <td>...</td>\n",
              "      <td>...</td>\n",
              "      <td>...</td>\n",
              "      <td>...</td>\n",
              "      <td>...</td>\n",
              "      <td>...</td>\n",
              "      <td>...</td>\n",
              "      <td>...</td>\n",
              "      <td>...</td>\n",
              "      <td>...</td>\n",
              "      <td>...</td>\n",
              "      <td>...</td>\n",
              "      <td>...</td>\n",
              "      <td>...</td>\n",
              "      <td>...</td>\n",
              "      <td>...</td>\n",
              "      <td>...</td>\n",
              "      <td>...</td>\n",
              "      <td>...</td>\n",
              "      <td>...</td>\n",
              "      <td>...</td>\n",
              "      <td>...</td>\n",
              "    </tr>\n",
              "    <tr>\n",
              "      <th>10675627</th>\n",
              "      <td>32</td>\n",
              "      <td>59</td>\n",
              "      <td>22162</td>\n",
              "      <td>4</td>\n",
              "      <td>30</td>\n",
              "      <td>40</td>\n",
              "      <td>4</td>\n",
              "      <td>42</td>\n",
              "      <td>4</td>\n",
              "      <td>5</td>\n",
              "      <td>1.0</td>\n",
              "      <td>0.0</td>\n",
              "      <td>0.0</td>\n",
              "      <td>0.308594</td>\n",
              "      <td>0.333252</td>\n",
              "      <td>0.627930</td>\n",
              "      <td>0.511719</td>\n",
              "      <td>0.238037</td>\n",
              "      <td>0.187500</td>\n",
              "      <td>0.175049</td>\n",
              "      <td>1.0</td>\n",
              "      <td>0.0</td>\n",
              "      <td>0.0</td>\n",
              "      <td>0.111633</td>\n",
              "      <td>0.238037</td>\n",
              "      <td>1.0</td>\n",
              "      <td>-0.085815</td>\n",
              "      <td>60673.121094</td>\n",
              "      <td>8</td>\n",
              "      <td>30</td>\n",
              "      <td>14</td>\n",
              "      <td>14</td>\n",
              "    </tr>\n",
              "    <tr>\n",
              "      <th>10675628</th>\n",
              "      <td>32</td>\n",
              "      <td>59</td>\n",
              "      <td>22163</td>\n",
              "      <td>4</td>\n",
              "      <td>30</td>\n",
              "      <td>40</td>\n",
              "      <td>4</td>\n",
              "      <td>36</td>\n",
              "      <td>4</td>\n",
              "      <td>5</td>\n",
              "      <td>0.0</td>\n",
              "      <td>NaN</td>\n",
              "      <td>NaN</td>\n",
              "      <td>0.308594</td>\n",
              "      <td>0.690430</td>\n",
              "      <td>NaN</td>\n",
              "      <td>NaN</td>\n",
              "      <td>0.238037</td>\n",
              "      <td>NaN</td>\n",
              "      <td>NaN</td>\n",
              "      <td>0.0</td>\n",
              "      <td>NaN</td>\n",
              "      <td>NaN</td>\n",
              "      <td>0.111633</td>\n",
              "      <td>0.238037</td>\n",
              "      <td>0.0</td>\n",
              "      <td>-0.008354</td>\n",
              "      <td>60673.121094</td>\n",
              "      <td>8</td>\n",
              "      <td>30</td>\n",
              "      <td>1</td>\n",
              "      <td>1</td>\n",
              "    </tr>\n",
              "    <tr>\n",
              "      <th>10675629</th>\n",
              "      <td>32</td>\n",
              "      <td>59</td>\n",
              "      <td>22164</td>\n",
              "      <td>4</td>\n",
              "      <td>30</td>\n",
              "      <td>37</td>\n",
              "      <td>4</td>\n",
              "      <td>562</td>\n",
              "      <td>1</td>\n",
              "      <td>5</td>\n",
              "      <td>0.0</td>\n",
              "      <td>1.0</td>\n",
              "      <td>0.0</td>\n",
              "      <td>0.308594</td>\n",
              "      <td>0.476074</td>\n",
              "      <td>0.279053</td>\n",
              "      <td>0.162842</td>\n",
              "      <td>0.238037</td>\n",
              "      <td>0.187500</td>\n",
              "      <td>0.175049</td>\n",
              "      <td>0.0</td>\n",
              "      <td>1.0</td>\n",
              "      <td>0.0</td>\n",
              "      <td>0.117859</td>\n",
              "      <td>0.238037</td>\n",
              "      <td>0.0</td>\n",
              "      <td>-0.114929</td>\n",
              "      <td>60673.121094</td>\n",
              "      <td>8</td>\n",
              "      <td>30</td>\n",
              "      <td>7</td>\n",
              "      <td>7</td>\n",
              "    </tr>\n",
              "    <tr>\n",
              "      <th>10675630</th>\n",
              "      <td>32</td>\n",
              "      <td>59</td>\n",
              "      <td>22166</td>\n",
              "      <td>4</td>\n",
              "      <td>30</td>\n",
              "      <td>54</td>\n",
              "      <td>-85</td>\n",
              "      <td>42</td>\n",
              "      <td>61</td>\n",
              "      <td>6</td>\n",
              "      <td>0.0</td>\n",
              "      <td>0.0</td>\n",
              "      <td>0.0</td>\n",
              "      <td>0.308594</td>\n",
              "      <td>0.261963</td>\n",
              "      <td>0.186035</td>\n",
              "      <td>0.232544</td>\n",
              "      <td>0.238037</td>\n",
              "      <td>0.187500</td>\n",
              "      <td>0.175049</td>\n",
              "      <td>0.0</td>\n",
              "      <td>0.0</td>\n",
              "      <td>0.0</td>\n",
              "      <td>0.000000</td>\n",
              "      <td>0.238037</td>\n",
              "      <td>0.0</td>\n",
              "      <td>0.000000</td>\n",
              "      <td>60673.121094</td>\n",
              "      <td>8</td>\n",
              "      <td>30</td>\n",
              "      <td>23</td>\n",
              "      <td>23</td>\n",
              "    </tr>\n",
              "    <tr>\n",
              "      <th>10675631</th>\n",
              "      <td>32</td>\n",
              "      <td>59</td>\n",
              "      <td>22167</td>\n",
              "      <td>4</td>\n",
              "      <td>30</td>\n",
              "      <td>49</td>\n",
              "      <td>4</td>\n",
              "      <td>19</td>\n",
              "      <td>39</td>\n",
              "      <td>6</td>\n",
              "      <td>0.0</td>\n",
              "      <td>0.0</td>\n",
              "      <td>0.0</td>\n",
              "      <td>0.308594</td>\n",
              "      <td>0.690430</td>\n",
              "      <td>0.790527</td>\n",
              "      <td>0.767578</td>\n",
              "      <td>0.238037</td>\n",
              "      <td>0.187500</td>\n",
              "      <td>0.175049</td>\n",
              "      <td>0.0</td>\n",
              "      <td>0.0</td>\n",
              "      <td>0.0</td>\n",
              "      <td>0.047607</td>\n",
              "      <td>0.238037</td>\n",
              "      <td>0.0</td>\n",
              "      <td>0.004200</td>\n",
              "      <td>60673.121094</td>\n",
              "      <td>8</td>\n",
              "      <td>30</td>\n",
              "      <td>24</td>\n",
              "      <td>24</td>\n",
              "    </tr>\n",
              "  </tbody>\n",
              "</table>\n",
              "<p>9178167 rows × 32 columns</p>\n",
              "</div>"
            ],
            "text/plain": [
              "          date_block_num  shop_id  ...  item_shop_first_sale  item_first_sale\n",
              "1497465                4        2  ...                     4                4\n",
              "1497466                4        2  ...                     4                4\n",
              "1497467                4        2  ...                     4                4\n",
              "1497468                4        2  ...                     3                3\n",
              "1497469                4        2  ...                     3                3\n",
              "...                  ...      ...  ...                   ...              ...\n",
              "10675627              32       59  ...                    14               14\n",
              "10675628              32       59  ...                     1                1\n",
              "10675629              32       59  ...                     7                7\n",
              "10675630              32       59  ...                    23               23\n",
              "10675631              32       59  ...                    24               24\n",
              "\n",
              "[9178167 rows x 32 columns]"
            ]
          },
          "metadata": {
            "tags": []
          },
          "execution_count": 45
        }
      ]
    },
    {
      "cell_type": "code",
      "metadata": {
        "id": "bKXGtpsTybjv",
        "colab_type": "code",
        "colab": {
          "base_uri": "https://localhost:8080/",
          "height": 221
        },
        "outputId": "ac3f2485-64d0-4e19-f8eb-892defde7d36"
      },
      "source": [
        "Y_train"
      ],
      "execution_count": null,
      "outputs": [
        {
          "output_type": "execute_result",
          "data": {
            "text/plain": [
              "1497465     0.0\n",
              "1497466     0.0\n",
              "1497467     0.0\n",
              "1497468     0.0\n",
              "1497469     0.0\n",
              "           ... \n",
              "10675627    0.0\n",
              "10675628    0.0\n",
              "10675629    0.0\n",
              "10675630    0.0\n",
              "10675631    0.0\n",
              "Name: item_cnt_month, Length: 9178167, dtype: float16"
            ]
          },
          "metadata": {
            "tags": []
          },
          "execution_count": 46
        }
      ]
    },
    {
      "cell_type": "code",
      "metadata": {
        "id": "sED6RlowtYlM",
        "colab_type": "code",
        "colab": {}
      },
      "source": [
        "catboost_model = CatBoostRegressor(\n",
        "    iterations=500,\n",
        "    max_ctr_complexity=4,\n",
        "    random_seed=0,\n",
        "    od_type='Iter',\n",
        "    od_wait=25,\n",
        "    verbose=50,\n",
        "    depth=4\n",
        ")\n",
        "\n",
        "catboost_model.fit(\n",
        "    X_train, Y_train\n",
        ")"
      ],
      "execution_count": null,
      "outputs": []
    },
    {
      "cell_type": "code",
      "metadata": {
        "id": "FsJr2THjy36w",
        "colab_type": "code",
        "colab": {}
      },
      "source": [
        "from sklearn import *\n",
        "from lightgbm import LGBMClassifier\n",
        "import time\n",
        "from sklearn.metrics import accuracy_score\n",
        "from sklearn.metrics import roc_auc_score\n",
        "from sklearn.metrics import confusion_matrix"
      ],
      "execution_count": null,
      "outputs": []
    },
    {
      "cell_type": "code",
      "metadata": {
        "id": "BoHMKLifyzVH",
        "colab_type": "code",
        "colab": {}
      },
      "source": [
        "lgb = LGBMClassifier(\n",
        "    objective='binary',\n",
        "    boosting='gbdt',\n",
        "    learning_rate = 0.05,\n",
        "    max_depth = 8,\n",
        "    num_leaves = 80,\n",
        "    n_estimators = 400,\n",
        "    bagging_fraction = 0.8,\n",
        "    feature_fraction = 0.9)\n",
        "    #reg_alpha = 0.2,\n",
        "    #reg_lambda = 0.4)"
      ],
      "execution_count": null,
      "outputs": []
    },
    {
      "cell_type": "code",
      "metadata": {
        "id": "OWA3ofdJzA6c",
        "colab_type": "code",
        "colab": {
          "base_uri": "https://localhost:8080/",
          "height": 68
        },
        "outputId": "ba7d1f10-2d36-4889-bc2a-687f1f8abce5"
      },
      "source": [
        "t = time.time()\n",
        "print('Fitting Up')\n",
        "lgb.fit(X_train,Y_train)\n",
        "print('Done')\n",
        "print(f'Done, time = {time.time() - t}')"
      ],
      "execution_count": null,
      "outputs": [
        {
          "output_type": "stream",
          "text": [
            "Fitting Up\n",
            "Done\n",
            "Done, time = 12683.025570631027\n"
          ],
          "name": "stdout"
        }
      ]
    },
    {
      "cell_type": "code",
      "metadata": {
        "id": "txS7EhmA9siP",
        "colab_type": "code",
        "colab": {
          "base_uri": "https://localhost:8080/"
        },
        "outputId": "981a20e9-c7e4-42d5-8e64-1e3d9095f342"
      },
      "source": [
        "ts = time.time()\n",
        "\n",
        "model = XGBRegressor(\n",
        "    max_depth=10,\n",
        "    n_estimators=1000,\n",
        "    min_child_weight=0.5, \n",
        "    colsample_bytree=0.8, \n",
        "    subsample=0.8, \n",
        "    eta=0.1,\n",
        "#     tree_method='gpu_hist',\n",
        "    seed=42)\n",
        "\n",
        "model.fit(\n",
        "    X_train, \n",
        "    Y_train, \n",
        "    eval_metric=\"rmse\", \n",
        "    eval_set=[(X_train, Y_train), (X_valid, Y_valid)], \n",
        "    verbose=True, \n",
        "    early_stopping_rounds = 20)\n",
        "\n",
        "time.time() - ts"
      ],
      "execution_count": null,
      "outputs": [
        {
          "output_type": "stream",
          "text": [
            "[07:13:09] WARNING: /workspace/src/objective/regression_obj.cu:152: reg:linear is now deprecated in favor of reg:squarederror.\n",
            "[07:13:09] WARNING: /workspace/src/learner.cc:686: Tree method is automatically selected to be 'approx' for faster speed. To use old behavior (exact greedy algorithm on single machine), set tree_method to 'exact'.\n",
            "[0]\tvalidation_0-rmse:1.12359\tvalidation_1-rmse:1.11776\n",
            "Multiple eval metrics have been passed: 'validation_1-rmse' will be used for early stopping.\n",
            "\n",
            "Will train until validation_1-rmse hasn't improved in 20 rounds.\n",
            "[1]\tvalidation_0-rmse:1.08296\tvalidation_1-rmse:1.07911\n",
            "[2]\tvalidation_0-rmse:1.04721\tvalidation_1-rmse:1.04677\n",
            "[3]\tvalidation_0-rmse:1.01094\tvalidation_1-rmse:1.01885\n",
            "[4]\tvalidation_0-rmse:0.984228\tvalidation_1-rmse:0.997916\n",
            "[5]\tvalidation_0-rmse:0.96087\tvalidation_1-rmse:0.980793\n",
            "[6]\tvalidation_0-rmse:0.939567\tvalidation_1-rmse:0.965107\n",
            "[7]\tvalidation_0-rmse:0.920986\tvalidation_1-rmse:0.954201\n",
            "[8]\tvalidation_0-rmse:0.905571\tvalidation_1-rmse:0.944135\n",
            "[9]\tvalidation_0-rmse:0.892293\tvalidation_1-rmse:0.935941\n",
            "[10]\tvalidation_0-rmse:0.881139\tvalidation_1-rmse:0.929249\n",
            "[11]\tvalidation_0-rmse:0.871308\tvalidation_1-rmse:0.923676\n",
            "[12]\tvalidation_0-rmse:0.863251\tvalidation_1-rmse:0.919625\n",
            "[13]\tvalidation_0-rmse:0.855573\tvalidation_1-rmse:0.915975\n",
            "[14]\tvalidation_0-rmse:0.849647\tvalidation_1-rmse:0.912538\n",
            "[15]\tvalidation_0-rmse:0.844366\tvalidation_1-rmse:0.910431\n",
            "[16]\tvalidation_0-rmse:0.83907\tvalidation_1-rmse:0.909543\n",
            "[17]\tvalidation_0-rmse:0.834878\tvalidation_1-rmse:0.90847\n",
            "[18]\tvalidation_0-rmse:0.830389\tvalidation_1-rmse:0.906828\n",
            "[19]\tvalidation_0-rmse:0.826649\tvalidation_1-rmse:0.905467\n",
            "[20]\tvalidation_0-rmse:0.823076\tvalidation_1-rmse:0.903921\n",
            "[21]\tvalidation_0-rmse:0.820583\tvalidation_1-rmse:0.903008\n",
            "[22]\tvalidation_0-rmse:0.816557\tvalidation_1-rmse:0.904117\n",
            "[23]\tvalidation_0-rmse:0.81443\tvalidation_1-rmse:0.903217\n",
            "[24]\tvalidation_0-rmse:0.811867\tvalidation_1-rmse:0.902479\n",
            "[25]\tvalidation_0-rmse:0.810106\tvalidation_1-rmse:0.90224\n",
            "[26]\tvalidation_0-rmse:0.807861\tvalidation_1-rmse:0.900848\n",
            "[27]\tvalidation_0-rmse:0.805761\tvalidation_1-rmse:0.899808\n",
            "[28]\tvalidation_0-rmse:0.804188\tvalidation_1-rmse:0.899214\n",
            "[29]\tvalidation_0-rmse:0.802642\tvalidation_1-rmse:0.898678\n",
            "[30]\tvalidation_0-rmse:0.800023\tvalidation_1-rmse:0.897442\n",
            "[31]\tvalidation_0-rmse:0.798061\tvalidation_1-rmse:0.897474\n",
            "[32]\tvalidation_0-rmse:0.795498\tvalidation_1-rmse:0.897611\n",
            "[33]\tvalidation_0-rmse:0.793728\tvalidation_1-rmse:0.897503\n",
            "[34]\tvalidation_0-rmse:0.79198\tvalidation_1-rmse:0.896882\n",
            "[35]\tvalidation_0-rmse:0.789952\tvalidation_1-rmse:0.896736\n",
            "[36]\tvalidation_0-rmse:0.788443\tvalidation_1-rmse:0.896144\n",
            "[37]\tvalidation_0-rmse:0.787205\tvalidation_1-rmse:0.895733\n",
            "[38]\tvalidation_0-rmse:0.786249\tvalidation_1-rmse:0.895736\n",
            "[39]\tvalidation_0-rmse:0.78517\tvalidation_1-rmse:0.895204\n",
            "[40]\tvalidation_0-rmse:0.783624\tvalidation_1-rmse:0.894982\n",
            "[41]\tvalidation_0-rmse:0.782554\tvalidation_1-rmse:0.894776\n",
            "[42]\tvalidation_0-rmse:0.781309\tvalidation_1-rmse:0.89479\n",
            "[43]\tvalidation_0-rmse:0.780419\tvalidation_1-rmse:0.894688\n",
            "[44]\tvalidation_0-rmse:0.779066\tvalidation_1-rmse:0.894764\n",
            "[45]\tvalidation_0-rmse:0.778186\tvalidation_1-rmse:0.895366\n",
            "[46]\tvalidation_0-rmse:0.776791\tvalidation_1-rmse:0.895158\n",
            "[47]\tvalidation_0-rmse:0.775979\tvalidation_1-rmse:0.89513\n",
            "[48]\tvalidation_0-rmse:0.77491\tvalidation_1-rmse:0.898752\n",
            "[49]\tvalidation_0-rmse:0.773806\tvalidation_1-rmse:0.898362\n",
            "[50]\tvalidation_0-rmse:0.772749\tvalidation_1-rmse:0.898627\n",
            "[51]\tvalidation_0-rmse:0.771304\tvalidation_1-rmse:0.898066\n",
            "[52]\tvalidation_0-rmse:0.770466\tvalidation_1-rmse:0.897948\n",
            "[53]\tvalidation_0-rmse:0.769409\tvalidation_1-rmse:0.897959\n",
            "[54]\tvalidation_0-rmse:0.768745\tvalidation_1-rmse:0.897791\n",
            "[55]\tvalidation_0-rmse:0.768048\tvalidation_1-rmse:0.897643\n",
            "[56]\tvalidation_0-rmse:0.767333\tvalidation_1-rmse:0.897484\n",
            "[57]\tvalidation_0-rmse:0.766469\tvalidation_1-rmse:0.897323\n",
            "[58]\tvalidation_0-rmse:0.765771\tvalidation_1-rmse:0.897139\n",
            "[59]\tvalidation_0-rmse:0.76488\tvalidation_1-rmse:0.897062\n",
            "[60]\tvalidation_0-rmse:0.764122\tvalidation_1-rmse:0.896792\n",
            "[61]\tvalidation_0-rmse:0.763336\tvalidation_1-rmse:0.896803\n",
            "[62]\tvalidation_0-rmse:0.76265\tvalidation_1-rmse:0.897193\n",
            "[63]\tvalidation_0-rmse:0.761597\tvalidation_1-rmse:0.896773\n",
            "Stopping. Best iteration:\n",
            "[43]\tvalidation_0-rmse:0.780419\tvalidation_1-rmse:0.894688\n",
            "\n"
          ],
          "name": "stdout"
        },
        {
          "output_type": "execute_result",
          "data": {
            "text/plain": [
              "5715.786360740662"
            ]
          },
          "metadata": {
            "tags": []
          },
          "execution_count": 45
        }
      ]
    },
    {
      "cell_type": "code",
      "metadata": {
        "id": "OQaz61J79wiT",
        "colab_type": "code",
        "colab": {}
      },
      "source": [
        "Y_pred = model.predict(X_valid).clip(0, 20)\n",
        "Y_test = model.predict(X_test).clip(0, 20)\n",
        "\n",
        "submission = pd.DataFrame({\n",
        "    \"ID\": test.index, \n",
        "    \"item_cnt_month\": Y_test\n",
        "})\n",
        "submission.to_csv('xgb_submission.csv', index=False)"
      ],
      "execution_count": null,
      "outputs": []
    },
    {
      "cell_type": "code",
      "metadata": {
        "id": "sTcDvXjs90sM",
        "colab_type": "code",
        "colab": {}
      },
      "source": [
        "from xgboost import plot_importance\n",
        "\n",
        "def plot_features(booster, figsize):    \n",
        "    fig, ax = plt.subplots(1,1,figsize=figsize)\n",
        "    return plot_importance(booster=booster, ax=ax)\n",
        "\n",
        "plot_features(model, (10,14))"
      ],
      "execution_count": null,
      "outputs": []
    },
    {
      "cell_type": "code",
      "metadata": {
        "id": "R5NMOgKA94Cz",
        "colab_type": "code",
        "colab": {}
      },
      "source": [
        ""
      ],
      "execution_count": null,
      "outputs": []
    }
  ]
}